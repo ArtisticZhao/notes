{
 "cells": [
  {
   "cell_type": "markdown",
   "id": "064f3f5d-49c8-499f-8787-d36a034e6634",
   "metadata": {},
   "source": [
    "# Distinguish brids and planes\n",
    "First download CIFAR-10 dataset, and preprocess. Including transform dataset to tensor, normalize image in each channel(RGB)"
   ]
  },
  {
   "cell_type": "code",
   "execution_count": 2,
   "id": "d4d70af5-bfb2-4c51-b87b-c1c6a5b86fbe",
   "metadata": {},
   "outputs": [
    {
     "name": "stdout",
     "output_type": "stream",
     "text": [
      "Downloading https://www.cs.toronto.edu/~kriz/cifar-10-python.tar.gz to ./data/CIFAR10/cifar-10-python.tar.gz\n"
     ]
    },
    {
     "name": "stderr",
     "output_type": "stream",
     "text": [
      "100.0%\n"
     ]
    },
    {
     "name": "stdout",
     "output_type": "stream",
     "text": [
      "Extracting ./data/CIFAR10/cifar-10-python.tar.gz to ./data/CIFAR10\n",
      "Files already downloaded and verified\n"
     ]
    }
   ],
   "source": [
    "import torch\n",
    "import torch.nn as nn\n",
    "from torchvision import datasets, transforms\n",
    "from matplotlib import pyplot as plt\n",
    "data_path = './data/CIFAR10'\n",
    "cifar10 = datasets. CIFAR10(data_path, train=True, download=True, transform=transforms.ToTensor())\n",
    "cifar10_val = datasets.CIFAR10(data_path, train=False, download=True, transform=transforms.ToTensor ())"
   ]
  },
  {
   "cell_type": "markdown",
   "id": "ac70d693-8276-401a-b08a-fae397b5b860",
   "metadata": {},
   "source": [
    "## Normalizing\n",
    "Normalizing data channels, to make every channel have same mean and std."
   ]
  },
  {
   "cell_type": "code",
   "execution_count": 3,
   "id": "9f41db2e-8bbd-4288-817d-a087a2fec06e",
   "metadata": {},
   "outputs": [
    {
     "data": {
      "text/plain": [
       "torch.Size([3, 32, 32, 50000])"
      ]
     },
     "execution_count": 3,
     "metadata": {},
     "output_type": "execute_result"
    }
   ],
   "source": [
    "imgs = torch.stack ([img_t for img_t, _ in cifar10], dim=3)\n",
    "imgs.shape"
   ]
  },
  {
   "cell_type": "code",
   "execution_count": 4,
   "id": "87dd9cb7-b8f0-4448-a969-69dc5af7247e",
   "metadata": {},
   "outputs": [
    {
     "data": {
      "text/plain": [
       "tensor([0.4914, 0.4822, 0.4465])"
      ]
     },
     "execution_count": 4,
     "metadata": {},
     "output_type": "execute_result"
    }
   ],
   "source": [
    "ch_mean = imgs. view(3, -1). mean (dim=1)\n",
    "ch_mean"
   ]
  },
  {
   "cell_type": "code",
   "execution_count": 5,
   "id": "1e0b9177-fd34-4797-86bb-839fc5fa645b",
   "metadata": {},
   "outputs": [
    {
     "data": {
      "text/plain": [
       "tensor([0.2470, 0.2435, 0.2616])"
      ]
     },
     "execution_count": 5,
     "metadata": {},
     "output_type": "execute_result"
    }
   ],
   "source": [
    "ch_std = imgs. view(3, -1). std(dim=1)\n",
    "ch_std"
   ]
  },
  {
   "cell_type": "code",
   "execution_count": 7,
   "id": "3b0dfc8b-9cac-4364-84d8-45af9cae1876",
   "metadata": {},
   "outputs": [
    {
     "name": "stdout",
     "output_type": "stream",
     "text": [
      "Files already downloaded and verified\n"
     ]
    }
   ],
   "source": [
    "normlizer = transforms.Normalize (ch_mean, ch_std)\n",
    "cifar10_norm = datasets.CIFAR10(data_path, train=True, download=True,\n",
    "    transform=transforms.Compose ([transforms.ToTensor(), normlizer]))"
   ]
  },
  {
   "cell_type": "code",
   "execution_count": 9,
   "id": "e0639c42-2a10-4758-b828-399322aa2468",
   "metadata": {},
   "outputs": [
    {
     "name": "stdout",
     "output_type": "stream",
     "text": [
      "Files already downloaded and verified\n"
     ]
    }
   ],
   "source": [
    "imgs_val = torch.stack([img_t for img_t, _ in cifar10_val], dim=3)\n",
    "ch_mean_val = imgs_val.view(3, -1) .mean(dim=1)\n",
    "ch_std_val = imgs_val.view(3, -1).std(dim=1)\n",
    "cifar10_norm_val = datasets.CIFAR10(data_path, train=False, download=True,\n",
    "    transform=transforms.Compose([transforms.ToTensor(), transforms.Normalize(ch_mean_val, ch_std_val)]))"
   ]
  },
  {
   "cell_type": "markdown",
   "id": "48753c52-24c1-4786-a2a8-fcfd230b3009",
   "metadata": {},
   "source": [
    "## Regroup dataset\n",
    "For the task we will archive, we only need the dataset contains the 'bird\" and 'airplane'."
   ]
  },
  {
   "cell_type": "code",
   "execution_count": 12,
   "id": "bcfb3887-fcfc-4667-9276-15e8e3e4d262",
   "metadata": {},
   "outputs": [],
   "source": [
    "label_map = {0:0, 2:1}\n",
    "class_names = ['airplane', 'bird']\n",
    "\n",
    "# regroup dataset\n",
    "cifar2 = [(img, label_map[label]) for img, label in cifar10_norm if label in [0, 2]]\n",
    "cifar2_val = [(img, label_map[label]) for img, label in cifar10_norm_val if label in [0, 2]]\n",
    "\n",
    "# regroup dataset in another way (Subset)"
   ]
  },
  {
   "cell_type": "markdown",
   "id": "a2cb89ef-5e82-4e7f-97bc-6c9ddf5c77c1",
   "metadata": {},
   "source": [
    "## Fully connected model\n",
    "Now we construct a simple model."
   ]
  },
  {
   "cell_type": "code",
   "execution_count": 13,
   "id": "891ef91a-9de1-4533-9335-6f11dec0aca1",
   "metadata": {},
   "outputs": [],
   "source": [
    "n_out = 2 # output airplane or bird\n",
    "model = nn. Sequential(\n",
    "    nn.Linear(\n",
    "        3072, # 32*32*3\n",
    "        512,\n",
    "    ),\n",
    "    nn.Tanh(),\n",
    "    nn.Linear(\n",
    "        512, n_out,\n",
    "    ),\n",
    "    nn.Softmax(dim=1)\n",
    ")"
   ]
  },
  {
   "cell_type": "markdown",
   "id": "1aaec4ee-bf67-43d9-a0b5-c75500a8626c",
   "metadata": {},
   "source": [
    "Just checkout the dataset"
   ]
  },
  {
   "cell_type": "code",
   "execution_count": 15,
   "id": "1414c50f-8908-4d6f-8797-a92b6d0c278e",
   "metadata": {},
   "outputs": [
    {
     "name": "stderr",
     "output_type": "stream",
     "text": [
      "Clipping input data to the valid range for imshow with RGB data ([0..1] for floats or [0..255] for integers).\n"
     ]
    },
    {
     "data": {
      "image/png": "[encoded data removed]",
      "text/plain": [
       "<Figure size 640x480 with 1 Axes>"
      ]
     },
     "metadata": {},
     "output_type": "display_data"
    }
   ],
   "source": [
    "img, _ = cifar2[0]\n",
    "plt. imshow(img. permute(1,2,0))\n",
    "plt. show()"
   ]
  },
  {
   "cell_type": "markdown",
   "id": "fe203c60-fe6a-4d2a-87f8-a93f892088c0",
   "metadata": {},
   "source": [
    "Have a glance on current untrained model. But we need make tersor in correct dimension"
   ]
  },
  {
   "cell_type": "code",
   "execution_count": 16,
   "id": "db496c18-0b54-4c5a-9895-545471e0b837",
   "metadata": {},
   "outputs": [
    {
     "name": "stdout",
     "output_type": "stream",
     "text": [
      "torch.Size([1, 3072])\n"
     ]
    },
    {
     "data": {
      "text/plain": [
       "tensor([[0.6225, 0.3775]], grad_fn=<SoftmaxBackward0>)"
      ]
     },
     "execution_count": 16,
     "metadata": {},
     "output_type": "execute_result"
    }
   ],
   "source": [
    "img_batch_test = img. view(-1). unsqueeze(0)\n",
    "print (img_batch_test. shape)\n",
    "out = model (img_batch_test)\n",
    "out"
   ]
  },
  {
   "cell_type": "markdown",
   "id": "b38e302d-8bf6-42f7-b44a-0144913de364",
   "metadata": {},
   "source": [
    "## Modify classification loss\n",
    "Softmax focus on classification in probability on 1.0 not on the probability higher than others. So We change softmax to logsoftmax"
   ]
  },
  {
   "cell_type": "code",
   "execution_count": 17,
   "id": "a3c29efe-00c6-44e9-96b4-c6b3c9a6a16e",
   "metadata": {},
   "outputs": [],
   "source": [
    "n_out = 2 # output airplane or bird\n",
    "model = nn. Sequential(\n",
    "    nn.Linear(\n",
    "        3072, # 32*32*3\n",
    "        512,\n",
    "    ),\n",
    "    nn.Tanh(),\n",
    "    nn.Linear(\n",
    "        512, n_out,\n",
    "    ),\n",
    "    nn.LogSoftmax(dim=1)\n",
    ")"
   ]
  },
  {
   "cell_type": "markdown",
   "id": "b2f50bfd-d33b-4a75-b5a5-b95a8b7588fa",
   "metadata": {},
   "source": [
    "## Training model\n",
    "Use small batch update parameter of model. There are 2 strategies on training and updating parameters, one is train all data in train set and update once; another is training a random batch of whole train set. The second strategy can have a approach of the first one, but have a better efficience."
   ]
  },
  {
   "cell_type": "code",
   "execution_count": 22,
   "id": "ad092a8e-f14a-4b74-9b2d-472bd9e54b19",
   "metadata": {},
   "outputs": [
    {
     "name": "stdout",
     "output_type": "stream",
     "text": [
      "Epoch: 0, Loss: 0.5507182478904724\n",
      "Epoch: 1, Loss: 0.42217931151390076\n",
      "Epoch: 2, Loss: 0.4130636155605316\n",
      "Epoch: 3, Loss: 0.2967418432235718\n",
      "Epoch: 4, Loss: 0.4247249364852905\n",
      "Epoch: 5, Loss: 0.35586124658584595\n",
      "Epoch: 6, Loss: 0.45009705424308777\n",
      "Epoch: 7, Loss: 0.3657110929489136\n",
      "Epoch: 8, Loss: 0.68947434425354\n",
      "Epoch: 9, Loss: 0.2333284616470337\n",
      "Epoch: 10, Loss: 0.20555593073368073\n",
      "Epoch: 11, Loss: 0.2253136783838272\n",
      "Epoch: 12, Loss: 0.539772093296051\n",
      "Epoch: 13, Loss: 0.5877918601036072\n",
      "Epoch: 14, Loss: 0.29031485319137573\n",
      "Epoch: 15, Loss: 0.2709488868713379\n",
      "Epoch: 16, Loss: 0.1970735788345337\n",
      "Epoch: 17, Loss: 0.29019540548324585\n",
      "Epoch: 18, Loss: 0.22656910121440887\n",
      "Epoch: 19, Loss: 0.12914486229419708\n",
      "Epoch: 20, Loss: 0.1977732926607132\n",
      "Epoch: 21, Loss: 0.19939710199832916\n",
      "Epoch: 22, Loss: 0.24523594975471497\n",
      "Epoch: 23, Loss: 0.09838718920946121\n",
      "Epoch: 24, Loss: 0.16564147174358368\n",
      "Epoch: 25, Loss: 0.08824323862791061\n",
      "Epoch: 26, Loss: 0.5560765266418457\n",
      "Epoch: 27, Loss: 0.24239905178546906\n",
      "Epoch: 28, Loss: 0.43115076422691345\n",
      "Epoch: 29, Loss: 0.14084576070308685\n",
      "Epoch: 30, Loss: 0.2713841497898102\n",
      "Epoch: 31, Loss: 0.34727805852890015\n",
      "Epoch: 32, Loss: 0.20098382234573364\n",
      "Epoch: 33, Loss: 0.26828688383102417\n",
      "Epoch: 34, Loss: 0.2329190969467163\n",
      "Epoch: 35, Loss: 0.22929956018924713\n",
      "Epoch: 36, Loss: 0.10170138627290726\n",
      "Epoch: 37, Loss: 0.3632165193557739\n",
      "Epoch: 38, Loss: 0.1088792234659195\n",
      "Epoch: 39, Loss: 0.23763754963874817\n",
      "Epoch: 40, Loss: 0.06734348088502884\n",
      "Epoch: 41, Loss: 0.03769087791442871\n",
      "Epoch: 42, Loss: 0.06314188241958618\n",
      "Epoch: 43, Loss: 0.21250957250595093\n",
      "Epoch: 44, Loss: 0.1348562240600586\n",
      "Epoch: 45, Loss: 0.083686463534832\n",
      "Epoch: 46, Loss: 0.0813855305314064\n",
      "Epoch: 47, Loss: 0.045378439128398895\n",
      "Epoch: 48, Loss: 0.05819636210799217\n",
      "Epoch: 49, Loss: 0.08870068937540054\n",
      "Epoch: 50, Loss: 0.041659608483314514\n",
      "Epoch: 51, Loss: 0.019024845212697983\n",
      "Epoch: 52, Loss: 0.097572460770607\n",
      "Epoch: 53, Loss: 0.0350174605846405\n",
      "Epoch: 54, Loss: 0.01986858993768692\n",
      "Epoch: 55, Loss: 0.1903751641511917\n",
      "Epoch: 56, Loss: 0.017202619463205338\n",
      "Epoch: 57, Loss: 0.06360124051570892\n",
      "Epoch: 58, Loss: 0.07721719145774841\n",
      "Epoch: 59, Loss: 0.06975183635950089\n",
      "Epoch: 60, Loss: 0.01947544701397419\n",
      "Epoch: 61, Loss: 0.04902568459510803\n",
      "Epoch: 62, Loss: 0.0312814861536026\n",
      "Epoch: 63, Loss: 0.05775701254606247\n",
      "Epoch: 64, Loss: 0.04444872960448265\n",
      "Epoch: 65, Loss: 0.027374476194381714\n",
      "Epoch: 66, Loss: 0.1283305585384369\n",
      "Epoch: 67, Loss: 0.02344278246164322\n",
      "Epoch: 68, Loss: 0.02322411723434925\n",
      "Epoch: 69, Loss: 0.03441578894853592\n",
      "Epoch: 70, Loss: 0.01241438090801239\n",
      "Epoch: 71, Loss: 0.02848951332271099\n",
      "Epoch: 72, Loss: 0.017064226791262627\n",
      "Epoch: 73, Loss: 0.011081132106482983\n",
      "Epoch: 74, Loss: 0.01838235929608345\n",
      "Epoch: 75, Loss: 0.022432031109929085\n",
      "Epoch: 76, Loss: 0.01816791109740734\n",
      "Epoch: 77, Loss: 0.04015989229083061\n",
      "Epoch: 78, Loss: 0.03178151324391365\n",
      "Epoch: 79, Loss: 0.05500001832842827\n",
      "Epoch: 80, Loss: 0.037451546639204025\n",
      "Epoch: 81, Loss: 0.05250536650419235\n",
      "Epoch: 82, Loss: 0.028054649010300636\n",
      "Epoch: 83, Loss: 0.026390934363007545\n",
      "Epoch: 84, Loss: 0.024780675768852234\n",
      "Epoch: 85, Loss: 0.07740414142608643\n",
      "Epoch: 86, Loss: 0.012247125618159771\n",
      "Epoch: 87, Loss: 0.030135465785861015\n",
      "Epoch: 88, Loss: 0.016553528606891632\n",
      "Epoch: 89, Loss: 0.016617242246866226\n",
      "Epoch: 90, Loss: 0.013593402691185474\n",
      "Epoch: 91, Loss: 0.02127416990697384\n",
      "Epoch: 92, Loss: 0.008615603670477867\n",
      "Epoch: 93, Loss: 0.013311073184013367\n",
      "Epoch: 94, Loss: 0.014767617918550968\n",
      "Epoch: 95, Loss: 0.022939171642065048\n",
      "Epoch: 96, Loss: 0.02380083128809929\n",
      "Epoch: 97, Loss: 0.004173959605395794\n",
      "Epoch: 98, Loss: 0.010541281662881374\n",
      "Epoch: 99, Loss: 0.008822868578135967\n"
     ]
    }
   ],
   "source": [
    "train_loader = torch.utils.data.DataLoader(cifar2, batch_size=64, shuffle=True)\n",
    "learning_rate = 1e-2\n",
    "optimizer = torch.optim.SGD(model. parameters(), lr=learning_rate)\n",
    "\n",
    "loss_fn = nn.NLLLoss()\n",
    "\n",
    "n_epochs = 100\n",
    "\n",
    "for epoch in range(n_epochs):\n",
    "    for imgs, labels in train_loader:\n",
    "        batch_size = imgs.shape[0]\n",
    "        outputs = model(imgs.view(batch_size, -1))\n",
    "        loss = loss_fn(outputs, labels)\n",
    "        optimizer. zero_grad()\n",
    "        loss. backward()\n",
    "        optimizer. step()\n",
    "    print(f\"Epoch: {epoch}, Loss: {float(loss)}\")"
   ]
  },
  {
   "cell_type": "code",
   "execution_count": null,
   "id": "b0886031-7280-40f4-a3d7-ddea97c77811",
   "metadata": {},
   "outputs": [],
   "source": []
  }
 ],
 "metadata": {
  "kernelspec": {
   "display_name": "torchENV",
   "language": "python",
   "name": ".venv"
  },
  "language_info": {
   "codemirror_mode": {
    "name": "ipython",
    "version": 3
   },
   "file_extension": ".py",
   "mimetype": "text/x-python",
   "name": "python",
   "nbconvert_exporter": "python",
   "pygments_lexer": "ipython3",
   "version": "3.11.6"
  }
 },
 "nbformat": 4,
 "nbformat_minor": 5
}
